{
 "metadata": {
  "name": "",
  "signature": "sha256:9c2733e6b00e5582f1db474fb892e4d78dce6ca6f69f9850f585c9c4cf7048a4"
 },
 "nbformat": 3,
 "nbformat_minor": 0,
 "worksheets": [
  {
   "cells": [
    {
     "cell_type": "heading",
     "level": 1,
     "metadata": {},
     "source": [
      "Continous integration"
     ]
    },
    {
     "cell_type": "markdown",
     "metadata": {},
     "source": [
      "Continuous integration: \n",
      "    - a software engeneiring pratice\n",
      "    - check for regression every code modifcation\n",
      "    - automated\n",
      "    - detect and fix bugs as soon as possible"
     ]
    },
    {
     "cell_type": "heading",
     "level": 2,
     "metadata": {},
     "source": [
      "Continous integration basic concepts, an example of possible work flow"
     ]
    },
    {
     "cell_type": "markdown",
     "metadata": {},
     "source": [
      "- It is required that the developers team make use of a version control system.\n",
      "- The goal is to automatically run a suite of test after each commit.\n",
      "\n",
      "<img src=\"files/image/git.svg\">"
     ]
    },
    {
     "cell_type": "markdown",
     "metadata": {},
     "source": [
      "- When a developer commit, a Git hook notify the CI server\n",
      "- The CI server triggers a build on each slaves:\n",
      "  - Download the code modifications (Git)\n",
      "  - Build the code (CMake)\n",
      "  - Run the tests (CUnit)\n",
      "  - (Build the documentation, the packages ...)\n",
      " - Slave send results to Ci server\n",
      " - CI server send notifications, emails, publish results on a web interface\n",
      "- If a regression is detected, the developper fix the bug immediatelly\n",
      "\n",
      "<img src=\"files/image/ci-concept.svg\">"
     ]
    },
    {
     "cell_type": "heading",
     "level": 2,
     "metadata": {},
     "source": [
      "Prepare your source code for continuous integration"
     ]
    },
    {
     "cell_type": "markdown",
     "metadata": {},
     "source": [
      "- Build and installation of your software must be automated and reproductible\n",
      "- Every little hack by hand that has been neglected make the whole process failed\n",
      "- Test suite must be easy to execute (CTest).\n",
      "- Test suite must run fast.\n",
      "- Everything must be in the Git repository:\n",
      "    - build script\n",
      "    - test\n",
      "    - input data\n",
      "    - ..."
     ]
    },
    {
     "cell_type": "heading",
     "level": 2,
     "metadata": {},
     "source": [
      "Credentials"
     ]
    },
    {
     "cell_type": "markdown",
     "metadata": {},
     "source": [
      "The CI slaves must be able to fetch the sources code from the Git server.\n",
      "\n",
      "If the projet is not read-only public, it implies:\n",
      "- Add a new user on the forge with read-only access\n",
      "- store credentials on the slaves, typically a SSH key with or without passphrase"
     ]
    },
    {
     "cell_type": "heading",
     "level": 2,
     "metadata": {},
     "source": [
      "Slaves"
     ]
    },
    {
     "cell_type": "markdown",
     "metadata": {},
     "source": [
      "Differents slave allow to test a software in different environment :\n",
      "    - Different architectutres (32 bits, 64 bits...)\n",
      "    - Different operation systems\n",
      "    - Differents library versions\n",
      "    \n",
      "Salve can be either:\n",
      "    - physical:\n",
      "        - easy to set up, hard to maintain and scale\n",
      "    - virtual:\n",
      "         - solution may vary from:\n",
      "             - images manage on a desktop (Vagrant)\n",
      "             - a whole cloud (cloudstack)\n",
      "         - licences issues with proprietary OS (Mac OS X)\n",
      "         - performances tests issues"
     ]
    },
    {
     "cell_type": "heading",
     "level": 1,
     "metadata": {},
     "source": [
      "Build frequency"
     ]
    },
    {
     "cell_type": "markdown",
     "metadata": {},
     "source": [
      "- Incremental and fast after each commit (need for a powerfull build system)\n",
      "- From scratch each night, possibility to run longer functional tests"
     ]
    },
    {
     "cell_type": "heading",
     "level": 2,
     "metadata": {},
     "source": [
      "Tests"
     ]
    },
    {
     "cell_type": "markdown",
     "metadata": {},
     "source": [
      "- Must be easy to run (one command)\n",
      "- Must run fast\n",
      "- More or less easy to write given the software\n",
      "- On which criteria say that results of a scientific numerical code are correct or wrong?"
     ]
    },
    {
     "cell_type": "heading",
     "level": 2,
     "metadata": {},
     "source": [
      "More things continuous integration can be used for"
     ]
    },
    {
     "cell_type": "markdown",
     "metadata": {},
     "source": [
      "- Fix regression bug immediately\n",
      "- Check that no dependency are forgotten\n",
      "- A developer have forgot to commit a file : work on its environment, but not for other developers.\n",
      "- Fix portability bug (a developer on GNU/Linux may introduce a bug that reprocude only on Mac OS X)\n",
      "- Eliminate warnings\n",
      "- Check coding rules\n",
      "- Check for memory leaks\n",
      "- Build and release packages"
     ]
    },
    {
     "cell_type": "heading",
     "level": 2,
     "metadata": {},
     "source": [
      "Notification strategy"
     ]
    },
    {
     "cell_type": "markdown",
     "metadata": {},
     "source": [
      "- email\n",
      "- desktop notification\n",
      "- notification on the forge"
     ]
    },
    {
     "cell_type": "heading",
     "level": 2,
     "metadata": {},
     "source": [
      "[Jenkins](http://jenkins-ci.org/) CI tool"
     ]
    },
    {
     "cell_type": "markdown",
     "metadata": {},
     "source": [
      "- Come from the Java world.\n",
      "- Large number of plugins.\n",
      "- But Jenkins version VS plugin version can cause issues during upgrades.\n",
      "- All the configuration take place in the web browser.\n",
      "- Not easy to archive the configuration into version control."
     ]
    },
    {
     "cell_type": "heading",
     "level": 1,
     "metadata": {},
     "source": [
      "[Buildbot](http://trac.buildbot.net/) CI tool"
     ]
    },
    {
     "cell_type": "markdown",
     "metadata": {},
     "source": [
      "- Configured in a Python script.\n",
      "- Easy to scrip.\n",
      "- Configuration can be archived into version control."
     ]
    },
    {
     "cell_type": "heading",
     "level": 1,
     "metadata": {},
     "source": [
      "[Travis](https://travis-ci.org/) CI tool"
     ]
    },
    {
     "cell_type": "markdown",
     "metadata": {},
     "source": [
      "- Hosted plateform for open source project\n",
      "- Integrated with Github\n",
      "- Very easy to set up:\n",
      "    - Create an account.\n",
      "    - Make Github notif Travis on commit (Webhook)\n",
      "    - Describe your build in a YAML file."
     ]
    },
    {
     "cell_type": "code",
     "collapsed": false,
     "input": [],
     "language": "python",
     "metadata": {},
     "outputs": []
    }
   ],
   "metadata": {}
  }
 ]
}