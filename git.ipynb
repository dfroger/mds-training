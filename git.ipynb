{
 "metadata": {
  "name": "",
  "signature": "sha256:7d4683806aed47bc629db151e851c85332e8ad6870df78a9bc1d38eaa57a29bc"
 },
 "nbformat": 3,
 "nbformat_minor": 0,
 "worksheets": [
  {
   "cells": [
    {
     "cell_type": "heading",
     "level": 1,
     "metadata": {},
     "source": [
      "Introduction"
     ]
    },
    {
     "cell_type": "markdown",
     "metadata": {},
     "source": [
      "**Git** is a **distributed** **Version Control Manager**.\n",
      "\n",
      "Version Control Manager:\n",
      "  - Source code is frequently **committed** into Git database, and each **commit** can be retrived, shared with team.\n",
      "  - Keep, search your code history.\n",
      "  - Develop software in team efficently.\n",
      "  \n",
      "Distributed:\n",
      "  - Unlike **SVN** which is **centralized**, **Git** is **distributed**. In means that Git do not enforce to use one central repository, but multiple can be used.\n",
      "  - When one download source code from a Git repository, it creates a new Git repository, with the full database. There is conceptually no differences between the two repositories.\n",
      "  - Offline work possibiilty\n",
      "  - multiple possible work flow to collaborate with other developers.\n",
      "  \n",
      "**Git** make is easy to work with **branches**.\n",
      "  - Branches are easy to create, merge and destroy.\n",
      "  - Create temporary branches to develop a topic is encouraged.\n",
      "  \n",
      "**Git** has some core concepts that must be understand.\n",
      "   - Without knowing these core concept, using Git is frustring and painfull.\n",
      "   - Knowning them, using Git is powserfull and easy.\n",
      "   \n",
      "Because of Git easiness to create new repository and manage branches, a work flow adapated to your team\n",
      "can be choose. For example :\n",
      "   - Working with a central repository and contributing into branches (small private team).\n",
      "   - Working with forks and contributing with pull request (large team with external contributors).\n",
      "   \n",
      "This presentation is about understanding the core concept of Git, to easier its adoption."
     ]
    },
    {
     "cell_type": "heading",
     "level": 2,
     "metadata": {},
     "source": [
      "Local version control (only one Git repository)"
     ]
    },
    {
     "cell_type": "markdown",
     "metadata": {},
     "source": [
      "We start working on a repository alone.\n",
      "\n",
      "In this sections, we will learn the core concepts of Git:\n",
      "    - staging area,\n",
      "    - commit,\n",
      "    - branch\n",
      "\n",
      "Start by creating a fresh directory to experiment with Git:"
     ]
    },
    {
     "cell_type": "code",
     "collapsed": false,
     "input": [
      "from os import makedirs, chdir, curdir, walk, sep\n",
      "from os.path import expanduser, isdir, abspath, join, relpath, basename\n",
      "from shutil import rmtree\n",
      "\n",
      "workdir = expanduser('~/git-training')\n",
      "\n",
      "# Remove possible existing working, and starts with a fresh one.\n",
      "if isdir(workdir):\n",
      "    rmtree(workdir)\n",
      "makedirs(workdir)\n",
      "            \n",
      "def print_directory_content(directory,indent=' '*4):\n",
      "    for dirpath, dirnames, filenames in walk(directory):\n",
      "        depth = dirpath.replace(directory, '').count(sep)\n",
      "        print(indent*depth + basename(dirpath) + sep)\n",
      "        for filename in filenames:\n",
      "            print(indent*(depth+1) + filename)\n",
      "\n",
      "def changedir(directory):\n",
      "    \"\"\"Set up a directory relative to workdir\"\"\"\n",
      "    directory = abspath(join(workdir,directory))\n",
      "    makedirs(directory)\n",
      "    chdir(directory)\n",
      "    print(\"We are in directory {}, it contains:\".format(abspath(curdir)))\n",
      "    print()\n",
      "    print_directory_content(directory)\n",
      "    \n",
      "# The directory that will contains the Git repository\n",
      "repo_dir = 'repo'\n",
      "changedir(repo_dir)"
     ],
     "language": "python",
     "metadata": {},
     "outputs": []
    },
    {
     "cell_type": "heading",
     "level": 3,
     "metadata": {},
     "source": [
      "The init command"
     ]
    },
    {
     "cell_type": "markdown",
     "metadata": {},
     "source": [
      "A Git **repository** is created in the current directory using the **init** command.\n",
      "    \n",
      "This will create a `.git` hidden directory, where Git stores its database."
     ]
    },
    {
     "cell_type": "code",
     "collapsed": false,
     "input": [
      "%%bash\n",
      "\n",
      "git init\n",
      "ls -la"
     ],
     "language": "python",
     "metadata": {},
     "outputs": []
    },
    {
     "cell_type": "markdown",
     "metadata": {},
     "source": [
      "You can now start developing. For illustration, we write in a file called ``foo.txt``, but it real case with would write source code."
     ]
    },
    {
     "cell_type": "code",
     "collapsed": false,
     "input": [
      "%%bash\n",
      "\n",
      "cd repo\n",
      "echo \"First line\" > foo.txt"
     ],
     "language": "python",
     "metadata": {},
     "outputs": []
    },
    {
     "cell_type": "heading",
     "level": 3,
     "metadata": {},
     "source": [
      "The add commmand and the staging area"
     ]
    },
    {
     "cell_type": "markdown",
     "metadata": {},
     "source": [
      "We ask Git that he must track changes of the file ``foo`` using the **add** command"
     ]
    },
    {
     "cell_type": "code",
     "collapsed": false,
     "input": [
      "git add my_file\n",
      "\n",
      "git status"
     ],
     "language": "python",
     "metadata": {},
     "outputs": []
    },
    {
     "cell_type": "markdown",
     "metadata": {},
     "source": [
      "This command does two things:\n",
      "  - Because this the first time with use **add** on my_file, it tell Git to track changes of this file.\n",
      "  - The second thing is more subtle. **add** put the file and its content to what is called the **staging area**. Latter we will use the **commit** command to commit ``foo.txt`` into Git database. What Git put into its database is not the content of ``foo.txt`` file in the ``~/git-training/foo.txt`` directory, but the content of the file as it is in the **staging_area**, which may differ\n",
      "  \n",
      "Let see it in action on our example."
     ]
    },
    {
     "cell_type": "markdown",
     "metadata": {},
     "source": [
      "Until now, we have:\n",
      "  - write ``First line`` in ``foo.txt``\n",
      "  - run the **add** command on ``foo.txt``\n",
      " \n",
      "So:\n",
      "  - ``foo.txt`` in the working directory contains ``First line``\n",
      "  - ``foo.txt`` in the staging area contains ``First line`` as well.\n",
      "  \n",
      "Now suppose that we add another line in ``foo.txt``."
     ]
    },
    {
     "cell_type": "code",
     "collapsed": false,
     "input": [
      "echo \"Second line\" >> foo.txt"
     ],
     "language": "python",
     "metadata": {},
     "outputs": []
    },
    {
     "cell_type": "markdown",
     "metadata": {},
     "source": [
      "Now:\n",
      "    - ``foo.txt`` in the working directory contains ``First line`` and ``Second line``.\n",
      "    - ``foo.txt`` in the staging area still contains just ``First line``.\n",
      "    \n",
      "If we commit ``foo.txt`` into the Git database now using the **commit** command, it will commit the file as it is in the staging area.\n",
      "\n",
      "To update the staging area, we use the **add** command againg, which copy the ``myfile.txt`` from the working directory into the staging area."
     ]
    },
    {
     "cell_type": "markdown",
     "metadata": {},
     "source": [
      "%%bash\n",
      "\n",
      "git add foo.txt"
     ]
    },
    {
     "cell_type": "heading",
     "level": 3,
     "metadata": {},
     "source": [
      "The commit command"
     ]
    },
    {
     "cell_type": "markdown",
     "metadata": {},
     "source": [
      "Now, ``foo.txt`` in the staing area that is the same as the one in the working directory will be be committed.\n",
      "\n",
      "A message in written with the commit, to help remember its content"
     ]
    },
    {
     "cell_type": "code",
     "collapsed": false,
     "input": [
      "%%bash\n",
      "\n",
      "git commit -m 'Two lines in the new foo.txt file.'"
     ],
     "language": "python",
     "metadata": {},
     "outputs": []
    },
    {
     "cell_type": "heading",
     "level": 3,
     "metadata": {},
     "source": [
      "The diff and status command"
     ]
    },
    {
     "cell_type": "markdown",
     "metadata": {},
     "source": [
      "Modify the ``foo.txt`` file, and observe the outputs of the **diff** and **log** commands"
     ]
    },
    {
     "cell_type": "code",
     "collapsed": false,
     "input": [
      "%%bash\n",
      "\n",
      "echo 'Third line' >> foo.txt\n",
      "git diff\n",
      "git status"
     ],
     "language": "python",
     "metadata": {},
     "outputs": []
    },
    {
     "cell_type": "markdown",
     "metadata": {},
     "source": [
      "Stage the file, and observe the new output of the **diff** and **log** commands"
     ]
    },
    {
     "cell_type": "code",
     "collapsed": false,
     "input": [
      "%%bash\n",
      "\n",
      "git add foo.txt\n",
      "git diff\n",
      "git status"
     ],
     "language": "python",
     "metadata": {},
     "outputs": []
    },
    {
     "cell_type": "markdown",
     "metadata": {},
     "source": [
      "Commit the file."
     ]
    },
    {
     "cell_type": "code",
     "collapsed": false,
     "input": [
      "%%bash\n",
      "\n",
      "git commit -m 'Add third line to file.txt'"
     ],
     "language": "python",
     "metadata": {},
     "outputs": []
    },
    {
     "cell_type": "heading",
     "level": 3,
     "metadata": {},
     "source": [
      "The log command"
     ]
    },
    {
     "cell_type": "markdown",
     "metadata": {},
     "source": [
      "The **log** command prints an history of all the commits"
     ]
    },
    {
     "cell_type": "code",
     "collapsed": false,
     "input": [
      "%%bash\n",
      "git log"
     ],
     "language": "python",
     "metadata": {},
     "outputs": []
    },
    {
     "cell_type": "code",
     "collapsed": false,
     "input": [
      "%%bash\n",
      "git log -p"
     ],
     "language": "python",
     "metadata": {},
     "outputs": []
    },
    {
     "cell_type": "heading",
     "level": 3,
     "metadata": {},
     "source": [
      "The checkout command"
     ]
    },
    {
     "cell_type": "markdown",
     "metadata": {},
     "source": [
      "The **checkout** command restaure a previous commit. We are in a ``detached HEAD`` state that will be explain latter in the ``branch`` section"
     ]
    },
    {
     "cell_type": "code",
     "collapsed": false,
     "input": [
      "%%bash\n",
      "git checkout master^"
     ],
     "language": "python",
     "metadata": {},
     "outputs": []
    },
    {
     "cell_type": "code",
     "collapsed": false,
     "input": [
      "%%bash\n",
      "cat my_file"
     ],
     "language": "python",
     "metadata": {},
     "outputs": []
    },
    {
     "cell_type": "code",
     "collapsed": false,
     "input": [
      "%%bash\n",
      "git checkout master"
     ],
     "language": "python",
     "metadata": {},
     "outputs": []
    },
    {
     "cell_type": "code",
     "collapsed": false,
     "input": [
      "%%bash\n",
      "cat my_file"
     ],
     "language": "python",
     "metadata": {},
     "outputs": []
    },
    {
     "cell_type": "heading",
     "level": 3,
     "metadata": {},
     "source": [
      "Git commits"
     ]
    },
    {
     "cell_type": "markdown",
     "metadata": {},
     "source": [
      "To take advantages of all the powerfull features of Git, it is important to underdand what a **commit** actually is.\n",
      "\n",
      "The first think to be conscient is that Git has stores in its database 3 commits that contains the full 3 versions of the file ``foo.txt``.\n",
      "  - At the first commit, Git has stored in its database  a commit containing ``First line``.\n",
      "  - At the second commit, Git has stored in its database a commit containing not the difference of the two versions, but the whole file: ``First line`` (duplicated in Git database) and ``Second line``.\n",
      "  - After the third commit, ``First line`` is really in duplicated the 3 different commits in the Git database ).\n",
      "  \n",
      "Note that for performance, Git has the ability to effeciently compresses its database and stores only difference (especially during network communication), but the model is to store the whole content of files of each commit.\n",
      "\n",
      "This yield to a very simple model. A commit contains the directories and files we have commited (called ``tree`` and ``blob`` in Git), plus some meta data.\n",
      "\n",
      "In Git, a commit contains:\n",
      "  - a parent commit (or more)\n",
      "  - a tree (which itself contains trees and blobs)\n",
      "  - a commit message\n",
      "  - an author\n",
      "  - a date"
     ]
    },
    {
     "cell_type": "heading",
     "level": 3,
     "metadata": {},
     "source": [
      "The SHA-1"
     ]
    },
    {
     "cell_type": "markdown",
     "metadata": {},
     "source": [
      "Git use the cryptographic hash function **SHA-1** to identify each object (**commit**, **tree**, **blob**) with a hash value,\n",
      "something like : ``0e1e060688a560015614cf7ec4b77d8a0df07c2f``.\n",
      "\n",
      "The hash value is computed from the object content. It is almost impossible that **SHA-1** give the same hash value for two content\n",
      "has are differents. The risk of collision is almost zero, and we consider it is zero\n",
      "\n",
      "The hash value identify a commit uniquely. It identifies all the directories and files that makes the commit. But the parent commit(s) is (are) also part of the commit, so a two commits with exactly the same files and directories, but with different commit parents will have different hash value.\n",
      "\n",
      "Note:\n",
      "  - If two developpers create exactly he same commit on two differents computers, the hash value will be the same.\n",
      "  - We know that to commits are differents by only comparing their hash values.\n",
      "  - Hash value is very fast to compute, because if a whole tree in a commit hasn't changed, Git does not have to recompute it."
     ]
    },
    {
     "cell_type": "heading",
     "level": 3,
     "metadata": {},
     "source": [
      "Git branches"
     ]
    },
    {
     "cell_type": "markdown",
     "metadata": {},
     "source": [
      "Suppose we now want to try developping a new feature in our code, while continuing our previous work on ``foo.txt``.\n",
      "\n",
      "Git encourages creating a branch for this. \n",
      "\n",
      "A branch is created with the **branch** command, followed by the branch **name**:"
     ]
    },
    {
     "cell_type": "code",
     "collapsed": false,
     "input": [
      "%%bash\n",
      "\n",
      "git branch bar"
     ],
     "language": "python",
     "metadata": {},
     "outputs": []
    },
    {
     "cell_type": "markdown",
     "metadata": {},
     "source": [
      "The command **branch** without argument list all the branches, and indicates the current with an asterix"
     ]
    },
    {
     "cell_type": "code",
     "collapsed": false,
     "input": [
      "%%bash\n",
      "\n",
      "git branch"
     ],
     "language": "python",
     "metadata": {},
     "outputs": []
    },
    {
     "cell_type": "markdown",
     "metadata": {},
     "source": [
      "The **checkout** command allow to change to another branch:"
     ]
    },
    {
     "cell_type": "code",
     "collapsed": false,
     "input": [
      "git checkout bar\n",
      "git branch"
     ],
     "language": "python",
     "metadata": {},
     "outputs": []
    },
    {
     "cell_type": "markdown",
     "metadata": {},
     "source": [
      "Now we deveop in both the two branch:"
     ]
    },
    {
     "cell_type": "code",
     "collapsed": false,
     "input": [
      "echo 'First line' > bar.txt\n",
      "git add bar.txt\n",
      "git commit -m 'First line of bar.txt'\n",
      "\n",
      "echo 'Second line' >> bar.txt\n",
      "git add bar.txt\n",
      "git commit -m 'Second line of bar.txt'\n",
      "\n",
      "git checkout master\n",
      "echo \"Fourth line\" >> foo.txt\n",
      "git add foo.txt\n",
      "git commit -m  'Fourth line of foo.txt'\n",
      "\n",
      "echo \"Five line\" >> foo.txt\n",
      "git add foo.txt\n",
      "git commit -m 'Fifth line of foo.txt'\n",
      "\n",
      "git checkout bar\n",
      "echo 'Third line' >> bar.txt\n",
      "git add bar.txt\n",
      "git commit -m 'Second line of bar.txt'"
     ],
     "language": "python",
     "metadata": {},
     "outputs": []
    },
    {
     "cell_type": "heading",
     "level": 3,
     "metadata": {},
     "source": [
      "The merge command"
     ]
    },
    {
     "cell_type": "markdown",
     "metadata": {},
     "source": [
      "Now we are going to merge the work of the two branches. More specifilly, merge the **bar** branch into the **master** branch"
     ]
    },
    {
     "cell_type": "code",
     "collapsed": false,
     "input": [
      "git checkout master\n",
      "git merge master"
     ],
     "language": "python",
     "metadata": {},
     "outputs": []
    },
    {
     "cell_type": "markdown",
     "metadata": {},
     "source": [
      "Bescause there is no conflict, the merge is performed automatically. In case of confict (same lines of same file modified in both branches):\n",
      "   - the merge stops\n",
      "   - the developper edits the conflicted files, and solve the conflict\n",
      "   - the developper commit the merged files."
     ]
    },
    {
     "cell_type": "heading",
     "level": 3,
     "metadata": {},
     "source": [
      "What are Git branches"
     ]
    },
    {
     "cell_type": "markdown",
     "metadata": {},
     "source": [
      "Edit the file ``~/.gitconfig`` and add the content:\n",
      "\n",
      "    [alias]\n",
      "      gr = log --graph --full-history --all --color --pretty=tformat:\"%x1b[31m%h%x09%x1b[32m%d%x1b[0m%x20%s%x20%x1b[33m(%an)%x1b[0m\"\n",
      "\n",
      "This will provide Git with a usefull **gr** command, that displays a colored graph of the branches."
     ]
    },
    {
     "cell_type": "code",
     "collapsed": false,
     "input": [
      "%%bash\n",
      "\n",
      "git gr"
     ],
     "language": "python",
     "metadata": {},
     "outputs": []
    },
    {
     "cell_type": "markdown",
     "metadata": {},
     "source": [
      "The differents commits form a chain in each commits are link to their parent commits.\n",
      "\n",
      "Creating a branch means having two commits with same the parent, while merging means creating a commit with two parents.\n",
      "\n",
      "We can now give a simple definition to what branch are : their are just reference/pointer/name to a particular commit.\n",
      "\n",
      "Two specials branches are:\n",
      "   - **master**, the original branch when a repository is created. That's a branch like others.\n",
      "   - **HEAD**, the current branch, which is updated after a commit.\n",
      "   \n",
      "The situtation of a **detached HEAD** see above is restauring an old commit, while leaving HEAD pointing to the commit we where in.\n",
      "\n",
      "Note: with this knowledge on commits and branches, some Git features not demonstrated here will be easy to undersand:\n",
      "    - rebase\n",
      "    - fast-forward\n",
      "    - tag"
     ]
    },
    {
     "cell_type": "heading",
     "level": 2,
     "metadata": {},
     "source": [
      "Centralized version control"
     ]
    },
    {
     "cell_type": "markdown",
     "metadata": {},
     "source": [
      "Now we have learned how to work in a single Git repository, we will see how to sent/received commits between two Git repository.\n",
      "\n",
      "In this section, we will consider the work flow of two developpers:\n",
      "    - Alice\n",
      "    - Bob\n",
      "\n",
      "each one having its own repository on its computer:\n",
      "    - Alice repository A on Alice's computer,\n",
      "    - Bob repository B on Bob's computer.\n",
      "    \n",
      "and a central repository on a computer that both Alice and Bob can communicate with:\n",
      "    - central repository C on a \"server\".\n",
      "    \n",
      "For simplicity, we will demonstrate the commands on the same machine, using the Git **file://** protocol. However, this the Git command would be exactly the same, but using instead the **ssh://** or **https://** protocols.\n",
      "\n",
      "Note that configuring a \"server\" machine to host a Git repository and managing users permissions, backup, availabiliy, Web views of the repository etc, is not trivial, and solution like **GitHub**, **Bitbuck**, **Gitorious** or forges are preferred."
     ]
    },
    {
     "cell_type": "code",
     "collapsed": false,
     "input": [
      "alicedir = join(workdir, 'alice')\n",
      "bobdir = join(workdir, 'bob')\n",
      "centraldir = join(workdir, 'central')\n",
      "\n",
      "makedirs(alicedir)\n",
      "makedirs(bobdir)\n",
      "makedirs(centraldir)\n",
      "\n",
      "changedir(workir)"
     ],
     "language": "python",
     "metadata": {},
     "outputs": []
    },
    {
     "cell_type": "heading",
     "level": 3,
     "metadata": {},
     "source": [
      "The init --bare command"
     ]
    },
    {
     "cell_type": "markdown",
     "metadata": {},
     "source": [
      "We start by creating the central repository.\n",
      "\n",
      "There is a subtlety. Suppose someone is working in the Git this repository, and edit files in ``~/git-training/central``. \n",
      "\n",
      "Is is possible that some send commits (in git, this is call **push**) is this repository, that will be stored in ``~/git-training/central/.git``. The git database and the files in the directory will be inconsistant.\n",
      "\n",
      "To avoid this situtation, we provide the **--bare** options to **init**. The result is that a Git repository is created, without working directory. Nobody can **commit** directly into this repository, but only **send** commits via **pushes**.\n",
      "\n",
      "Never **push** commits to a Git repository that is not **bare**, to avoid inconsistency with its working directory.\n",
      "\n",
      "By convention, **bare** repositories are suffixed with **.git**, altough it not necessary."
     ]
    },
    {
     "cell_type": "code",
     "collapsed": false,
     "input": [
      "%%bash\n",
      "git init --bare central.git\n",
      "ls -l central.git"
     ],
     "language": "python",
     "metadata": {},
     "outputs": []
    },
    {
     "cell_type": "markdown",
     "metadata": {},
     "source": [
      "Alice and Bob clone the central repository:"
     ]
    },
    {
     "cell_type": "code",
     "collapsed": false,
     "input": [
      "%%bash\n",
      "\n",
      "git clone file:://central.git alice\n",
      "git clone file:://central.git bob"
     ],
     "language": "python",
     "metadata": {},
     "outputs": []
    },
    {
     "cell_type": "code",
     "collapsed": false,
     "input": [
      "changedir('alice')"
     ],
     "language": "python",
     "metadata": {},
     "outputs": []
    },
    {
     "cell_type": "heading",
     "level": 3,
     "metadata": {},
     "source": [
      "The remote command"
     ]
    },
    {
     "cell_type": "markdown",
     "metadata": {},
     "source": [
      "Without argument, the *remote* command lists the *remote* repository Git know about:"
     ]
    },
    {
     "cell_type": "code",
     "collapsed": false,
     "input": [
      "git remote"
     ],
     "language": "python",
     "metadata": {},
     "outputs": []
    },
    {
     "cell_type": "markdown",
     "metadata": {},
     "source": [
      "When the central repository has been cloned, Git has given it the name **origin**, by convention.\n",
      "\n",
      "Later we will learn how to register additionnal remote repositories.\n",
      "\n",
      "Alice works and commits into her repository:"
     ]
    },
    {
     "cell_type": "code",
     "collapsed": false,
     "input": [
      "echo 'First line' > foo.txt\n",
      "git add foo.txt\n",
      "git commit -m 'First line of foo.txt'\n",
      "\n",
      "echo 'Second line' >> foo.txt\n",
      "git add foo.txt\n",
      "git commit -m 'Second line of foo.txt'"
     ],
     "language": "python",
     "metadata": {},
     "outputs": []
    },
    {
     "cell_type": "heading",
     "level": 3,
     "metadata": {},
     "source": [
      "The push command"
     ]
    },
    {
     "cell_type": "markdown",
     "metadata": {},
     "source": [
      "Now, Alice want to send its commit to the central repository, so that Bob will get them\n",
      "\n",
      "To sent its commit to the central repository, Alice uses the **push** command, which arguments are:\n",
      "    git push <remote_name> <local_branch>:<remote_branch>\n",
      "    \n",
      "The remote_name is **origin**, Alice pushes the **master** branch of her repository to the **master** branch of the central repository, so:\n",
      "   "
     ]
    },
    {
     "cell_type": "code",
     "collapsed": false,
     "input": [
      "%%bash\n",
      "git push origin master:master"
     ],
     "language": "python",
     "metadata": {},
     "outputs": []
    },
    {
     "cell_type": "heading",
     "level": 3,
     "metadata": {},
     "source": [
      "The fetch command"
     ]
    },
    {
     "cell_type": "markdown",
     "metadata": {},
     "source": [
      "Bob hasn't work yet in his repository, and want to get the commits of Alice. He\n",
      "use the **fetch** command, which donwload all the commits of all branches from a repository."
     ]
    },
    {
     "cell_type": "code",
     "collapsed": false,
     "input": [
      "%%bash\n",
      "\n",
      "git fetch origin"
     ],
     "language": "python",
     "metadata": {},
     "outputs": []
    },
    {
     "cell_type": "heading",
     "level": 3,
     "metadata": {},
     "source": [
      "Remote branches"
     ]
    },
    {
     "cell_type": "code",
     "collapsed": false,
     "input": [
      "The Git *branch* command lists the Bob repository branches:"
     ],
     "language": "python",
     "metadata": {},
     "outputs": []
    },
    {
     "cell_type": "code",
     "collapsed": false,
     "input": [
      "%%bash\n",
      "\n",
      "git branch"
     ],
     "language": "python",
     "metadata": {},
     "outputs": []
    },
    {
     "cell_type": "code",
     "collapsed": false,
     "input": [
      "But where are the **central** repository branches that have been downloaded?\n",
      "\n",
      "The **-a** option to the ``branch`` command reveal them:"
     ],
     "language": "python",
     "metadata": {},
     "outputs": []
    },
    {
     "cell_type": "code",
     "collapsed": false,
     "input": [
      "%%bash\n",
      "\n",
      "git branch -a"
     ],
     "language": "python",
     "metadata": {},
     "outputs": []
    },
    {
     "cell_type": "markdown",
     "metadata": {},
     "source": [
      "``remotes/central/master.git`` is called a **remote branch**. \n",
      "\n",
      "A **remote branch** is a read-only branch that reflect the state of a branch on a remote. If the branch changes on the remote repository, use **fetch** again to refresh it."
     ]
    },
    {
     "cell_type": "markdown",
     "metadata": {},
     "source": [
      "To get the commits of the **remote branch** ``remotes/central/master.git`` into the **branch** master, merge it:"
     ]
    },
    {
     "cell_type": "code",
     "collapsed": false,
     "input": [
      "%%bash\n",
      "\n",
      "merge remotes/origin/master"
     ],
     "language": "python",
     "metadata": {},
     "outputs": []
    },
    {
     "cell_type": "markdown",
     "metadata": {},
     "source": [
      "Note: the **fetch** and **merge** operation can be accomplished in one command, **pull**:\n",
      "\n",
      "    git pull <remote_name> <remote_branch>:<local_branch>"
     ]
    },
    {
     "cell_type": "heading",
     "level": 3,
     "metadata": {},
     "source": [
      "Pushing feature branch"
     ]
    },
    {
     "cell_type": "markdown",
     "metadata": {},
     "source": [
      "While Alice and Bob are working on the master branch, Bob wants to develop an experiment feature.\n",
      "\n",
      "He create a branch for this, and work in it:"
     ]
    },
    {
     "cell_type": "code",
     "collapsed": false,
     "input": [
      "git branch exp\n",
      "git checkout exp\n",
      "\n",
      "echo \"First line\" > bar.txt\n",
      "git add bar.txt\n",
      "git commit -m 'First line of bar.txt'\n",
      "\n",
      "echo \"Second line\" >> bar.txt\n",
      "git add bar.txt\n",
      "git commit -m \"Second line in bar.txt\""
     ],
     "language": "python",
     "metadata": {},
     "outputs": []
    },
    {
     "cell_type": "raw",
     "metadata": {},
     "source": [
      "Bob then pushes his branch to the central repository, and push it to a branch of the same name, that is created in the central repository."
     ]
    },
    {
     "cell_type": "code",
     "collapsed": false,
     "input": [
      "%%bash\n",
      "\n",
      "git push origin exp:exp"
     ],
     "language": "python",
     "metadata": {},
     "outputs": []
    },
    {
     "cell_type": "heading",
     "level": 3,
     "metadata": {},
     "source": [
      "Tracking branch"
     ]
    },
    {
     "cell_type": "markdown",
     "metadata": {},
     "source": [
      "While this, Alice has worked on the master branch:"
     ]
    },
    {
     "cell_type": "code",
     "collapsed": false,
     "input": [
      "changedir(alice_dir)"
     ],
     "language": "python",
     "metadata": {},
     "outputs": []
    },
    {
     "cell_type": "code",
     "collapsed": false,
     "input": [
      "%%bash\n",
      "\n",
      "echo \"Third line\" >> foo.txt\n",
      "git add foo.txt\n",
      "git commit -m \"Third line in foo.txt\"\n",
      "\n",
      "echo \"Fourth line\" >> foo.txt\n",
      "git add foo.txt\n",
      "git commit -m \"Fourth line in foo.txt\""
     ],
     "language": "python",
     "metadata": {},
     "outputs": []
    },
    {
     "cell_type": "markdown",
     "metadata": {},
     "source": [
      "Alice now want to see the work of Bob on the ``exp`` branch. She download all the branches of the central repository:"
     ]
    },
    {
     "cell_type": "code",
     "collapsed": false,
     "input": [
      "git fetch central\n",
      "git branch -a"
     ],
     "language": "python",
     "metadata": {},
     "outputs": []
    },
    {
     "cell_type": "markdown",
     "metadata": {},
     "source": [
      "Alice has remote branch ``remotes/central/exp``, but how to work with it?\n",
      "\n",
      "If she checkout this branch, Git automatically creates a **tracking branch**:"
     ]
    },
    {
     "cell_type": "code",
     "collapsed": false,
     "input": [
      "%%bash\n",
      "git checkout remotes/central/exp"
     ],
     "language": "python",
     "metadata": {},
     "outputs": []
    },
    {
     "cell_type": "markdown",
     "metadata": {},
     "source": [
      "A tracking branch is a normal branch, which predifined behaviour for convenience.\n",
      "\n",
      "When in this branch, Alice can use:\n",
      "    \n",
      "    git pull\n",
      "\n",
      "and:\n",
      "    git push\n",
      "    \n",
      "and the commits will be pulled/pushed to ``central`` repository in the ``exp`` branch."
     ]
    },
    {
     "cell_type": "markdown",
     "metadata": {},
     "source": [
      "Note that Alice and Bob can work on the ``exp`` branch without disturbing the ``master`` branch.\n",
      "  - if ``exp`` was not a good idea, the branch can be dropped,\n",
      "  - if ``exp`` is a good idea, it will be merge in master wheen ready."
     ]
    },
    {
     "cell_type": "heading",
     "level": 3,
     "metadata": {},
     "source": [
      "Visualizing branches"
     ]
    },
    {
     "cell_type": "markdown",
     "metadata": {},
     "source": [
      "Alice helps Bob on the ``exp`` branch, and make a commit:"
     ]
    },
    {
     "cell_type": "code",
     "collapsed": false,
     "input": [
      "%%bash\n",
      "\n",
      "echo \"Third line\" >> bar.txt\n",
      "git commit -m \"Third line in bar.txt\""
     ],
     "language": "python",
     "metadata": {},
     "outputs": []
    },
    {
     "cell_type": "markdown",
     "metadata": {},
     "source": [
      "At this point, it is instructive to visualize the differents branches:"
     ]
    },
    {
     "cell_type": "code",
     "collapsed": false,
     "input": [
      "%%bash\n",
      "\n",
      "git gr"
     ],
     "language": "python",
     "metadata": {},
     "outputs": []
    },
    {
     "cell_type": "markdown",
     "metadata": {},
     "source": [
      "We note that:\n",
      "    - Alice master branch has 2 more commits that central's one.\n",
      "    - Alice master branch has 1 more commit that the central's one."
     ]
    },
    {
     "cell_type": "markdown",
     "metadata": {},
     "source": [
      "The verbose option of **branch** is usefull to see tracking branches:"
     ]
    },
    {
     "cell_type": "code",
     "collapsed": false,
     "input": [
      "%%bash\n",
      "git branch -avv"
     ],
     "language": "python",
     "metadata": {},
     "outputs": []
    },
    {
     "cell_type": "code",
     "collapsed": false,
     "input": [
      "Alice can push the commits of the two branches (Git has already set master as a tracking branch)"
     ],
     "language": "python",
     "metadata": {},
     "outputs": []
    },
    {
     "cell_type": "code",
     "collapsed": false,
     "input": [
      "%%bash\n",
      "git push\n",
      "git chekcout master\n",
      "git push\n",
      "git gr"
     ],
     "language": "python",
     "metadata": {},
     "outputs": []
    },
    {
     "cell_type": "markdown",
     "metadata": {},
     "source": [
      "The ``exp`` branch can be merge into master, the merge commit push on the central repository, and the branch deleted:"
     ]
    },
    {
     "cell_type": "code",
     "collapsed": false,
     "input": [
      "%%bash\n",
      "\n",
      "git checkout master\n",
      "git merge exp\n",
      "git push\n",
      "git branch -d exp\n",
      "git gr"
     ],
     "language": "python",
     "metadata": {},
     "outputs": []
    },
    {
     "cell_type": "heading",
     "level": 2,
     "metadata": {},
     "source": [
      "Distributed work flow\n",
      "    \n",
      "    "
     ]
    },
    {
     "cell_type": "markdown",
     "metadata": {},
     "source": [
      "Committing to a central repository in ok for small team where developpers know each oters\n",
      "\n",
      "For large project, it is blocking and dangerous to give write access to the central repository to a external contributor.\n",
      "\n",
      "Git solve this problem with **forks**.\n",
      "\n",
      "When a developper wants to contribute a project, it forks the original bare repository. It means that the developper get its own bare repository. In this repository, he developper a feature in a branch. When the work his ready, he ask an administrator to pull the feature branch of his repository to the master branch of the central repository.\n",
      "\n",
      "This is called a **pull request**.\n",
      "\n",
      "Let see this in practive with adding the **Emma** developper to our previous example."
     ]
    },
    {
     "cell_type": "code",
     "collapsed": false,
     "input": [
      "changedir(workdir)"
     ],
     "language": "python",
     "metadata": {},
     "outputs": []
    },
    {
     "cell_type": "code",
     "collapsed": false,
     "input": [
      "Emma starts by forking the central repository to her own bare repository.\n",
      "\n",
      "Note: This is a functionnaly provided out of the box by Github\n",
      "    \n",
      "Emma clones her central repository."
     ],
     "language": "python",
     "metadata": {},
     "outputs": []
    },
    {
     "cell_type": "code",
     "collapsed": false,
     "input": [
      "%%bash\n",
      "\n",
      "git clone --bare central.git central-emma-fork.git\n",
      "\n",
      "git clone central-emma-fork.git emma"
     ],
     "language": "python",
     "metadata": {},
     "outputs": []
    },
    {
     "cell_type": "code",
     "collapsed": false,
     "input": [
      "emma_dir = join(workdir, 'emma')\n",
      "changedir(emma_dir)"
     ],
     "language": "python",
     "metadata": {},
     "outputs": []
    },
    {
     "cell_type": "code",
     "collapsed": false,
     "input": [
      "Emma creates a topic branch, work on it, and pushed it:"
     ],
     "language": "python",
     "metadata": {},
     "outputs": []
    },
    {
     "cell_type": "code",
     "collapsed": false,
     "input": [
      "%%bash\n",
      "\n",
      "git branch baz\n",
      "git checkout baz\n",
      "\n",
      "echo \"First line\" > baz.txt\n",
      "git add baz.txt\n",
      "git commit -m 'First line in baz.txt\"\n",
      "\n",
      "echo \"Second line\" >> baz.txt\n",
      "git add baz.txt\n",
      "git commit -m 'Second line in baz.tx\"\n",
      "\n",
      "git push origin baz:baz"
     ],
     "language": "python",
     "metadata": {},
     "outputs": []
    },
    {
     "cell_type": "markdown",
     "metadata": {},
     "source": [
      "The next step for Emma is to ask Alice to get the **baz** branch of **central-emma-for** get pulled into the **master** branch for **central**.\n",
      "\n",
      "Note: Github provides functionnality to ask for pull request, and review the concerned code.\n",
      "\n",
      "Alice fetches the Emma bare repository. To do this, she first add the Emma bare repository to the remote repository Git know."
     ]
    },
    {
     "cell_type": "code",
     "collapsed": false,
     "input": [
      "%%bash\n",
      "\n",
      "git remote add emma ssh://~/git-training/central-emma-fork.git\n",
      "git checkout baz"
     ],
     "language": "python",
     "metadata": {},
     "outputs": []
    },
    {
     "cell_type": "markdown",
     "metadata": {},
     "source": [
      "At this point, Alice and Emmma can interact to add more commits to the ``baz`` branch. When ready, Alice merge it to ``master``, and ``pushes``"
     ]
    },
    {
     "cell_type": "code",
     "collapsed": false,
     "input": [
      "%%bash\n",
      "\n",
      "git checkout master\n",
      "git merge baz\n",
      "git push"
     ],
     "language": "python",
     "metadata": {},
     "outputs": []
    }
   ],
   "metadata": {}
  }
 ]
}